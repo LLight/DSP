{
 "cells": [
  {
   "cell_type": "code",
   "execution_count": 10,
   "id": "african-decade",
   "metadata": {},
   "outputs": [],
   "source": [
    "import numpy as np\n",
    "import math\n",
    "import matplotlib.pyplot as plt"
   ]
  },
  {
   "cell_type": "code",
   "execution_count": 11,
   "id": "silent-playback",
   "metadata": {},
   "outputs": [
    {
     "data": {
      "text/plain": [
       "[<matplotlib.lines.Line2D at 0x29dcd8cd760>]"
      ]
     },
     "execution_count": 11,
     "metadata": {},
     "output_type": "execute_result"
    },
    {
     "data": {
      "image/png": "[encoded data removed]",
      "text/plain": [
       "<Figure size 432x288 with 1 Axes>"
      ]
     },
     "metadata": {
      "needs_background": "light"
     },
     "output_type": "display_data"
    }
   ],
   "source": [
    "#2/17 example from class\n",
    "winSize=1024\n",
    "winCosine=np.zeros(winSize)\n",
    "winHamming=np.zeros(winSize)\n",
    "#do this once at the beginning\n",
    "for i in range(0, winSize):\n",
    "    phase=float(i) / float(winSize) #0<=t<1\n",
    "    phase = phase- 0.5 #scale t to -.5 to .5\n",
    "    winCosine[i]=math.cos(math.pi*phase)\n",
    "    winHamming[i]=(254.0/46.0)+(21.0/46.0)*math.cos(math.pi*2*phase)\n",
    "plt.plot(winCosine)\n",
    "#multpily cosine window with the signal\n",
    "#np.multiply(winCosine,)\n",
    "\n",
    "#t is the starting value for the block\n",
    "#t=0\n",
    "#inputSignal[t:t+winSize]\n",
    "#np.multiply(winCostine,inputSignal[t:t+winSize])\n",
    "#multiply input signal pairwise with the window\n",
    "\n",
    "#next block:\n",
    "#t+=512\n",
    "#np.multiply(winCosine,inputSignal[t:t+winSize])"
   ]
  },
  {
   "cell_type": "code",
   "execution_count": null,
   "id": "threaded-minimum",
   "metadata": {},
   "outputs": [],
   "source": [
    "#check plots using pyplot magnitude and phase spectra\n",
    "fig, axs = plt.subplots(nrows=2, ncols=1)\n",
    "# plot different spectrum types:\n",
    "axs[0].set_title(\"Magnitude Spectrum\")\n",
    "axs[0].magnitude_spectrum(x1, Fs=44100, sides='onesided', color='C1')\n",
    "axs[1].set_title(\"Phase Spectrum \")\n",
    "axs[1].phase_spectrum(x1, Fs=44100, sides='onesided', color='C2')\n",
    "#axs[1].angle_spectrum(x1, Fs=44100, sides='onesided', color='C2')"
   ]
  },
  {
   "cell_type": "code",
   "execution_count": null,
   "id": "stopped-lying",
   "metadata": {},
   "outputs": [],
   "source": [
    "fig, axs = plt.subplots(nrows=2, ncols=1)\n",
    "# plot different spectrum types:\n",
    "axs[0].set_title(\"Magnitude Spectrum\")\n",
    "axs[0].magnitude_spectrum(x2, Fs=44100, sides='onesided', color='C1')\n",
    "axs[1].set_title(\"Phase Spectrum \")\n",
    "axs[1].angle_spectrum(x2, Fs=44100, sides='onesided', color='C2')\n",
    "#axs[1].phase_spectrum(x2, Fs=44100, sides='onesided', color='C2')"
   ]
  }
 ],
 "metadata": {
  "kernelspec": {
   "display_name": "Python 3",
   "language": "python",
   "name": "python3"
  },
  "language_info": {
   "codemirror_mode": {
    "name": "ipython",
    "version": 3
   },
   "file_extension": ".py",
   "mimetype": "text/x-python",
   "name": "python",
   "nbconvert_exporter": "python",
   "pygments_lexer": "ipython3",
   "version": "3.9.1"
  }
 },
 "nbformat": 4,
 "nbformat_minor": 5
}

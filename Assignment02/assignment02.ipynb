{
 "cells": [
  {
   "cell_type": "code",
   "execution_count": 41,
   "id": "anticipated-metadata",
   "metadata": {},
   "outputs": [],
   "source": [
    "import numpy as np\n",
    "from scipy.io import wavfile\n",
    "from scipy import signal\n",
    "import matplotlib.pyplot as plt\n",
    "import time as tm"
   ]
  },
  {
   "cell_type": "markdown",
   "id": "differential-commerce",
   "metadata": {},
   "source": [
    "Question 1: Time Domain Convolution\n",
    "\n",
    "Write a python function y = myTimeConv(x,h) that computes the sample by sample time domain convolution of two signals. 'x' and 'h' are the signal and impulse response respectively and must be NumPy arrays. 'y' is the convolution output and also must be a NumPy array (single channel signals only).  [15]\n",
    "If the length of 'x' is 200 and the length of 'h' is 100, what is the length of 'y' ? It is sufficient to only provide the answer in a comment above the convolution implementation. [5]\n",
    "In your main script define 'x' as a DC signal of length 200 (constant amplitude of 1) and 'h' as a symmetric triangular signal of length 51 (0 at the first and last sample and 1 in the middle). Add a function call to myTimeConv() in your script to compute 'y_time' as the time-domain convolution of 'x' and 'h' as defined above. Plot the result (label the axes appropriately) and save in the results folder [10]"
   ]
  },
  {
   "cell_type": "code",
   "execution_count": 65,
   "id": "combined-banking",
   "metadata": {},
   "outputs": [],
   "source": [
    "#x=signal, h=impulse response\n",
    "def myTimeConv(x,h):\n",
    "    #length of convolution\n",
    "    y=np.zeros(len(x)+len(h)-1)\n",
    "    #pad signals with zeros\n",
    "    x0=np.append(x,np.zeros(len(h)-1))\n",
    "    h0=np.append(h,np.zeros(len(x)-1))\n",
    "    #print(len(y))\n",
    "    for n in range(0,len(y)-1):\n",
    "        #print(n)\n",
    "        for m in range(0,len(h)-1):\n",
    "            y[n]+=x0[n-m]*h0[m]\n",
    "    return y"
   ]
  },
  {
   "cell_type": "markdown",
   "id": "matched-wheat",
   "metadata": {},
   "source": [
    "If the length of 'x' is 200 and the length of 'h' is 100, the length of 'y' is 299."
   ]
  },
  {
   "cell_type": "code",
   "execution_count": 3,
   "id": "agreed-ukraine",
   "metadata": {},
   "outputs": [],
   "source": [
    "def main():\n",
    "    #x=signal of length 200, constant amplitude of 1\n",
    "    x=np.ones(200)\n",
    "    #h=symmetric triangular signal of length 51 (0 at first and last sample, 1 in the middle)\n",
    "    h1=np.linspace(0,1,26)\n",
    "    h2=np.flip(h1)\n",
    "    h=np.append(h1,h2[1:])\n",
    "    y_time = myTimeConv(x,h)\n",
    "    return x, h, y_time"
   ]
  },
  {
   "cell_type": "code",
   "execution_count": 57,
   "id": "crazy-criminal",
   "metadata": {},
   "outputs": [
    {
     "name": "stdout",
     "output_type": "stream",
     "text": [
      "200\n",
      "51\n",
      "250\n"
     ]
    }
   ],
   "source": [
    "x, h, y_time=main()\n",
    "print(len(x))\n",
    "print(len(h))\n",
    "print(len(y_time))"
   ]
  },
  {
   "cell_type": "code",
   "execution_count": 58,
   "id": "touched-platinum",
   "metadata": {},
   "outputs": [
    {
     "data": {
      "text/plain": [
       "[<matplotlib.lines.Line2D at 0x28be84310a0>]"
      ]
     },
     "execution_count": 58,
     "metadata": {},
     "output_type": "execute_result"
    },
    {
     "data": {
      "image/png": "[encoded data removed]",
      "text/plain": [
       "<Figure size 432x288 with 1 Axes>"
      ]
     },
     "metadata": {
      "needs_background": "light"
     },
     "output_type": "display_data"
    }
   ],
   "source": [
    "plt.plot(y_time)"
   ]
  },
  {
   "cell_type": "markdown",
   "id": "chronic-procurement",
   "metadata": {},
   "source": [
    "Question 2. Compare with SciPy Implementation\n",
    "In this part, you will compare your implementation with the built-in SciPy convolve() (https://docs.scipy.org/doc/scipy/reference/generated/scipy.signal.convolve.html (Links to an external site.)) method. \n",
    "\n",
    "Write a function (m, mabs, stdev, time) = CompareConv(x, h) that compares the output of the convolution from both myTimeConv() with the built-in SciPy convolve() function. Again, 'x' and 'h' are the signal and impulse response respectively and must be NumPy arrays. The function should compute the convolution result of myTimeConv() and compare it with that of convolve(). It must return the following parameters: [10]\n",
    "a) m: float of the mean difference of the output compared to convolve()\n",
    "b) mabs: float of the mean absolute difference of the output compared to convolve()\n",
    "c) stdev: float standard deviation of the difference of the output compared to convolve() \n",
    "d) time: 2-lengthed array containing the running time of each method. (reminder: you will not be graded on speed results)"
   ]
  },
  {
   "cell_type": "code",
   "execution_count": 19,
   "id": "intimate-allowance",
   "metadata": {},
   "outputs": [],
   "source": [
    "def loadSoundFile(filename):\n",
    "    samplerate, data = wavfile.read('./'+filename)\n",
    "    #if there is more than one channel, keep the left\n",
    "    if data.ndim>1:\n",
    "        L = data[:,0]\n",
    "    else:\n",
    "        L=data\n",
    "    #scale to [-1,1]\n",
    "    x = L/max(L)\n",
    "    return x\n",
    "    return data"
   ]
  },
  {
   "cell_type": "code",
   "execution_count": 20,
   "id": "fifth-intensity",
   "metadata": {},
   "outputs": [],
   "source": [
    "impulse=loadSoundFile('impulse-response.wav')\n",
    "piano=loadSoundFile('piano.wav')"
   ]
  },
  {
   "cell_type": "code",
   "execution_count": 78,
   "id": "outdoor-couple",
   "metadata": {},
   "outputs": [
    {
     "data": {
      "text/plain": [
       "[<matplotlib.lines.Line2D at 0x13c319e2ca0>]"
      ]
     },
     "execution_count": 78,
     "metadata": {},
     "output_type": "execute_result"
    },
    {
     "data": {
      "image/png": "[encoded data removed]",
      "text/plain": [
       "<Figure size 432x288 with 1 Axes>"
      ]
     },
     "metadata": {
      "needs_background": "light"
     },
     "output_type": "display_data"
    }
   ],
   "source": [
    "plt.plot(impulse)"
   ]
  },
  {
   "cell_type": "code",
   "execution_count": 79,
   "id": "corresponding-heater",
   "metadata": {},
   "outputs": [
    {
     "data": {
      "text/plain": [
       "[<matplotlib.lines.Line2D at 0x13c319f5b20>]"
      ]
     },
     "execution_count": 79,
     "metadata": {},
     "output_type": "execute_result"
    },
    {
     "data": {
      "image/png": "[encoded data removed]",
      "text/plain": [
       "<Figure size 432x288 with 1 Axes>"
      ]
     },
     "metadata": {
      "needs_background": "light"
     },
     "output_type": "display_data"
    }
   ],
   "source": [
    "plt.plot(piano)"
   ]
  },
  {
   "cell_type": "code",
   "execution_count": 82,
   "id": "disciplinary-organic",
   "metadata": {},
   "outputs": [],
   "source": [
    "test=signal.convolve(impulse, piano, mode='full')"
   ]
  },
  {
   "cell_type": "code",
   "execution_count": 83,
   "id": "running-adoption",
   "metadata": {},
   "outputs": [
    {
     "data": {
      "text/plain": [
       "[<matplotlib.lines.Line2D at 0x13c31adb4f0>]"
      ]
     },
     "execution_count": 83,
     "metadata": {},
     "output_type": "execute_result"
    },
    {
     "data": {
      "image/png": "[encoded data removed]",
      "text/plain": [
       "<Figure size 432x288 with 1 Axes>"
      ]
     },
     "metadata": {
      "needs_background": "light"
     },
     "output_type": "display_data"
    }
   ],
   "source": [
    "plt.plot(test)"
   ]
  },
  {
   "cell_type": "code",
   "execution_count": 84,
   "id": "searching-glasgow",
   "metadata": {},
   "outputs": [
    {
     "name": "stdout",
     "output_type": "stream",
     "text": [
      "169600\n",
      "4096\n",
      "173695\n"
     ]
    }
   ],
   "source": [
    "print(len(piano))\n",
    "print(len(impulse))\n",
    "print(len(test))"
   ]
  },
  {
   "cell_type": "code",
   "execution_count": 11,
   "id": "technological-satellite",
   "metadata": {},
   "outputs": [
    {
     "name": "stdout",
     "output_type": "stream",
     "text": [
      "<class 'numpy.ndarray'>\n",
      "200\n",
      "51\n",
      "250\n"
     ]
    },
    {
     "data": {
      "image/png": "[encoded data removed]",
      "text/plain": [
       "<Figure size 432x288 with 1 Axes>"
      ]
     },
     "metadata": {
      "needs_background": "light"
     },
     "output_type": "display_data"
    }
   ],
   "source": [
    "x=np.ones(200)\n",
    "    #h=symmetric triangular signal of length 51 (0 at first and last sample, 1 in the middle)\n",
    "h1=np.linspace(0,1,26)\n",
    "h2=np.flip(h1)\n",
    "h=np.append(h1,h2[1:])\n",
    "test2=signal.convolve(x,h)\n",
    "plt.plot(test2)\n",
    "print(type(test2))\n",
    "print(len(x))\n",
    "print(len(h))\n",
    "print(len(test2))"
   ]
  },
  {
   "cell_type": "code",
   "execution_count": 8,
   "id": "close-istanbul",
   "metadata": {},
   "outputs": [
    {
     "data": {
      "text/plain": [
       "[<matplotlib.lines.Line2D at 0x28be7098f10>]"
      ]
     },
     "execution_count": 8,
     "metadata": {},
     "output_type": "execute_result"
    },
    {
     "data": {
      "image/png": "[encoded data removed]",
      "text/plain": [
       "<Figure size 432x288 with 1 Axes>"
      ]
     },
     "metadata": {
      "needs_background": "light"
     },
     "output_type": "display_data"
    }
   ],
   "source": [
    "plt.plot(h)\n"
   ]
  },
  {
   "cell_type": "code",
   "execution_count": 9,
   "id": "faced-establishment",
   "metadata": {},
   "outputs": [
    {
     "data": {
      "text/plain": [
       "[<matplotlib.lines.Line2D at 0x28be70f66d0>]"
      ]
     },
     "execution_count": 9,
     "metadata": {},
     "output_type": "execute_result"
    },
    {
     "data": {
      "image/png": "[encoded data removed]",
      "text/plain": [
       "<Figure size 432x288 with 1 Axes>"
      ]
     },
     "metadata": {
      "needs_background": "light"
     },
     "output_type": "display_data"
    }
   ],
   "source": [
    "plt.plot(x)"
   ]
  },
  {
   "cell_type": "code",
   "execution_count": 52,
   "id": "surprising-pencil",
   "metadata": {},
   "outputs": [],
   "source": [
    "def CompareConv(x, h):\n",
    "    myStart = tm.perf_counter()\n",
    "    my_conv = myTimeConv(x,h)\n",
    "    plt.plot(my_conv)\n",
    "    plt.title('Convolution of impulse and piano: myTimeConv')\n",
    "    myEnd = tm.perf_counter()\n",
    "    myTime = myEnd-myStart\n",
    "    \n",
    "    #timeit.timeit(myTimeConv(x,h))\n",
    "    \n",
    "    spStart = tm.perf_counter()\n",
    "    sp_conv = signal.convolve(x,h)\n",
    "    spEnd = tm.perf_counter()\n",
    "    spTime = spEnd-spStart\n",
    "    \n",
    "    # time: 2-lengthed array containing the running time of each method. (reminder: you will not be graded on speed results)\n",
    "    time = np.array([myTime,spTime])\n",
    "    \n",
    "    diff = my_conv - sp_conv\n",
    "    #m: float of the mean difference of the output compared to convolve() \n",
    "    m = np.mean(diff)\n",
    "    # mabs: float of the mean absolute difference of the output compared to convolve()\n",
    "    mabs = np.mean(abs(diff))          \n",
    "    # stdev: float standard deviation of the difference of the output compared to convolve()\n",
    "    stdev = np.std(diff)\n",
    "  \n",
    "    return m, mabs, stdev, time"
   ]
  },
  {
   "cell_type": "code",
   "execution_count": null,
   "id": "cathedral-arrow",
   "metadata": {},
   "outputs": [],
   "source": [
    "m, mabs, stdev, time = CompareConv(piano,impulse)"
   ]
  },
  {
   "cell_type": "code",
   "execution_count": 61,
   "id": "illegal-abraham",
   "metadata": {},
   "outputs": [
    {
     "data": {
      "text/plain": [
       "-6.107472986238848e-06"
      ]
     },
     "execution_count": 61,
     "metadata": {},
     "output_type": "execute_result"
    }
   ],
   "source": [
    "m"
   ]
  },
  {
   "cell_type": "code",
   "execution_count": 62,
   "id": "moral-updating",
   "metadata": {},
   "outputs": [
    {
     "data": {
      "text/plain": [
       "9.012183073454666e-05"
      ]
     },
     "execution_count": 62,
     "metadata": {},
     "output_type": "execute_result"
    }
   ],
   "source": [
    "mabs"
   ]
  },
  {
   "cell_type": "code",
   "execution_count": 63,
   "id": "abstract-college",
   "metadata": {},
   "outputs": [
    {
     "data": {
      "text/plain": [
       "0.00014913360619662648"
      ]
     },
     "execution_count": 63,
     "metadata": {},
     "output_type": "execute_result"
    }
   ],
   "source": [
    "stdev"
   ]
  },
  {
   "cell_type": "code",
   "execution_count": 64,
   "id": "checked-journal",
   "metadata": {},
   "outputs": [
    {
     "data": {
      "text/plain": [
       "array([5.86967999e+02, 3.12114000e-02])"
      ]
     },
     "execution_count": 64,
     "metadata": {},
     "output_type": "execute_result"
    }
   ],
   "source": [
    "time"
   ]
  },
  {
   "cell_type": "code",
   "execution_count": null,
   "id": "experienced-prison",
   "metadata": {},
   "outputs": [],
   "source": []
  }
 ],
 "metadata": {
  "kernelspec": {
   "display_name": "Python 3",
   "language": "python",
   "name": "python3"
  },
  "language_info": {
   "codemirror_mode": {
    "name": "ipython",
    "version": 3
   },
   "file_extension": ".py",
   "mimetype": "text/x-python",
   "name": "python",
   "nbconvert_exporter": "python",
   "pygments_lexer": "ipython3",
   "version": "3.9.1"
  }
 },
 "nbformat": 4,
 "nbformat_minor": 5
}
